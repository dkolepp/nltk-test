{
 "cells": [
  {
   "cell_type": "markdown",
   "metadata": {},
   "source": [
    "## Sentence Tokenization\n",
    "\n",
    "Shows how to segement sentences."
   ]
  },
  {
   "cell_type": "code",
   "execution_count": 10,
   "metadata": {},
   "outputs": [],
   "source": [
    "import nltk\n",
    "from pprint import pprint\n",
    "\n",
    "text='''\n",
    "    The use of containers not only helps with the efficiency, elasticity, and reusability of the hosted applications, but also with application portability.\n",
    "    The <firstterm>Open Container Initiative</firstterm> provides a set of industry standards that define a container runtime specification and a container image specification.\n",
    "    The image specification defines the format for the bundle of files and metadata that form a container image.\n",
    "    When you build an application as a container image, which complies with the OCI standard, you can use any OCI-compliant container engine to execute the application.\n",
    "'''"
   ]
  },
  {
   "cell_type": "code",
   "execution_count": 3,
   "metadata": {},
   "outputs": [],
   "source": [
    "sentences = nltk.sent_tokenize(text)"
   ]
  },
  {
   "cell_type": "code",
   "execution_count": 4,
   "metadata": {},
   "outputs": [
    {
     "name": "stdout",
     "output_type": "stream",
     "text": [
      "S0: \n",
      "    The use of containers not only helps with the efficiency, elasticity, and reusability of the hosted applications, but also with application portability.\n",
      "S1: The <firstterm>Open Container Initiative</firstterm> provides a set of industry standards that define a container runtime specification and a container image specification.\n",
      "S2: The image specification defines the format for the bundle of files and metadata that form a container image.\n",
      "S3: When you build an application as a container image, which complies with the OCI standard, you can use any OCI-compliant container engine to execute the application.\n"
     ]
    }
   ],
   "source": [
    "for i in range(len(sentences)):\n",
    "    print('S{}: {}'.format(i,sentences[i]))"
   ]
  },
  {
   "cell_type": "markdown",
   "metadata": {},
   "source": [
    "Tokenize each sentence:"
   ]
  },
  {
   "cell_type": "code",
   "execution_count": 7,
   "metadata": {},
   "outputs": [
    {
     "name": "stdout",
     "output_type": "stream",
     "text": [
      "['The', 'use', 'of', 'containers', 'not', 'only', 'helps', 'with', 'the', 'efficiency', ',', 'elasticity', ',', 'and', 'reusability', 'of', 'the', 'hosted', 'applications', ',', 'but', 'also', 'with', 'application', 'portability', '.']\n",
      "[('The', 'DT'), ('use', 'NN'), ('of', 'IN'), ('containers', 'NNS'), ('not', 'RB'), ('only', 'RB'), ('helps', 'VBZ'), ('with', 'IN'), ('the', 'DT'), ('efficiency', 'NN'), (',', ','), ('elasticity', 'NN'), (',', ','), ('and', 'CC'), ('reusability', 'NN'), ('of', 'IN'), ('the', 'DT'), ('hosted', 'JJ'), ('applications', 'NNS'), (',', ','), ('but', 'CC'), ('also', 'RB'), ('with', 'IN'), ('application', 'NN'), ('portability', 'NN'), ('.', '.')]\n",
      "\n",
      "\n",
      "['The', '<', 'firstterm', '>', 'Open', 'Container', 'Initiative', '<', '/firstterm', '>', 'provides', 'a', 'set', 'of', 'industry', 'standards', 'that', 'define', 'a', 'container', 'runtime', 'specification', 'and', 'a', 'container', 'image', 'specification', '.']\n",
      "[('The', 'DT'), ('<', 'JJ'), ('firstterm', 'NN'), ('>', 'NNP'), ('Open', 'NNP'), ('Container', 'NNP'), ('Initiative', 'NNP'), ('<', 'NNP'), ('/firstterm', 'NNP'), ('>', 'NNP'), ('provides', 'VBZ'), ('a', 'DT'), ('set', 'NN'), ('of', 'IN'), ('industry', 'NN'), ('standards', 'NNS'), ('that', 'WDT'), ('define', 'VBP'), ('a', 'DT'), ('container', 'NN'), ('runtime', 'NN'), ('specification', 'NN'), ('and', 'CC'), ('a', 'DT'), ('container', 'NN'), ('image', 'NN'), ('specification', 'NN'), ('.', '.')]\n",
      "\n",
      "\n",
      "['The', 'image', 'specification', 'defines', 'the', 'format', 'for', 'the', 'bundle', 'of', 'files', 'and', 'metadata', 'that', 'form', 'a', 'container', 'image', '.']\n",
      "[('The', 'DT'), ('image', 'NN'), ('specification', 'NN'), ('defines', 'VBZ'), ('the', 'DT'), ('format', 'NN'), ('for', 'IN'), ('the', 'DT'), ('bundle', 'NN'), ('of', 'IN'), ('files', 'NNS'), ('and', 'CC'), ('metadata', 'NNS'), ('that', 'WDT'), ('form', 'VBP'), ('a', 'DT'), ('container', 'NN'), ('image', 'NN'), ('.', '.')]\n",
      "\n",
      "\n",
      "['When', 'you', 'build', 'an', 'application', 'as', 'a', 'container', 'image', ',', 'which', 'complies', 'with', 'the', 'OCI', 'standard', ',', 'you', 'can', 'use', 'any', 'OCI-compliant', 'container', 'engine', 'to', 'execute', 'the', 'application', '.']\n",
      "[('When', 'WRB'), ('you', 'PRP'), ('build', 'VBP'), ('an', 'DT'), ('application', 'NN'), ('as', 'IN'), ('a', 'DT'), ('container', 'NN'), ('image', 'NN'), (',', ','), ('which', 'WDT'), ('complies', 'VBZ'), ('with', 'IN'), ('the', 'DT'), ('OCI', 'NNP'), ('standard', 'NN'), (',', ','), ('you', 'PRP'), ('can', 'MD'), ('use', 'VB'), ('any', 'DT'), ('OCI-compliant', 'JJ'), ('container', 'NN'), ('engine', 'NN'), ('to', 'TO'), ('execute', 'VB'), ('the', 'DT'), ('application', 'NN'), ('.', '.')]\n",
      "\n",
      "\n"
     ]
    }
   ],
   "source": [
    "for s in sentences:\n",
    "    words = nltk.word_tokenize(s)\n",
    "    tagged_words = nltk.pos_tag(words)\n",
    "    print(words)\n",
    "    print(tagged_words)\n",
    "    print(\"\\n\")"
   ]
  },
  {
   "cell_type": "code",
   "execution_count": 12,
   "metadata": {},
   "outputs": [
    {
     "name": "stdout",
     "output_type": "stream",
     "text": [
      "[('When', 'WRB', 'O'),\n",
      " ('you', 'PRP', 'O'),\n",
      " ('build', 'VBP', 'O'),\n",
      " ('an', 'DT', 'O'),\n",
      " ('application', 'NN', 'O'),\n",
      " ('as', 'IN', 'O'),\n",
      " ('a', 'DT', 'O'),\n",
      " ('container', 'NN', 'O'),\n",
      " ('image', 'NN', 'O'),\n",
      " (',', ',', 'O'),\n",
      " ('which', 'WDT', 'O'),\n",
      " ('complies', 'VBZ', 'O'),\n",
      " ('with', 'IN', 'O'),\n",
      " ('the', 'DT', 'O'),\n",
      " ('OCI', 'NNP', 'O'),\n",
      " ('standard', 'NN', 'O'),\n",
      " (',', ',', 'O'),\n",
      " ('you', 'PRP', 'O'),\n",
      " ('can', 'MD', 'O'),\n",
      " ('use', 'VB', 'O'),\n",
      " ('any', 'DT', 'O'),\n",
      " ('OCI-compliant', 'JJ', 'O'),\n",
      " ('container', 'NN', 'O'),\n",
      " ('engine', 'NN', 'O'),\n",
      " ('to', 'TO', 'O'),\n",
      " ('execute', 'VB', 'O'),\n",
      " ('the', 'DT', 'O'),\n",
      " ('application', 'NN', 'O'),\n",
      " ('.', '.', 'O')]\n"
     ]
    }
   ],
   "source": [
    "from nltk.chunk import conlltags2tree, tree2conlltags\n",
    "\n",
    "iob_tagged = tree2conlltags(tagged_words)\n",
    "pprint(iob_tagged)\n"
   ]
  },
  {
   "cell_type": "code",
   "execution_count": 13,
   "metadata": {},
   "outputs": [
    {
     "ename": "ModuleNotFoundError",
     "evalue": "No module named 'spacy'",
     "output_type": "error",
     "traceback": [
      "\u001b[0;31m---------------------------------------------------------------------------\u001b[0m",
      "\u001b[0;31mModuleNotFoundError\u001b[0m                       Traceback (most recent call last)",
      "\u001b[0;32m<ipython-input-13-76a01d9c502b>\u001b[0m in \u001b[0;36m<module>\u001b[0;34m\u001b[0m\n\u001b[0;32m----> 1\u001b[0;31m \u001b[0;32mimport\u001b[0m \u001b[0mspacy\u001b[0m\u001b[0;34m\u001b[0m\u001b[0;34m\u001b[0m\u001b[0m\n\u001b[0m",
      "\u001b[0;31mModuleNotFoundError\u001b[0m: No module named 'spacy'"
     ]
    }
   ],
   "source": [
    "import spacy"
   ]
  },
  {
   "cell_type": "code",
   "execution_count": null,
   "metadata": {},
   "outputs": [],
   "source": []
  }
 ],
 "metadata": {
  "kernelspec": {
   "display_name": "Python 3",
   "language": "python",
   "name": "python3"
  },
  "language_info": {
   "codemirror_mode": {
    "name": "ipython",
    "version": 3
   },
   "file_extension": ".py",
   "mimetype": "text/x-python",
   "name": "python",
   "nbconvert_exporter": "python",
   "pygments_lexer": "ipython3",
   "version": "3.6.8"
  }
 },
 "nbformat": 4,
 "nbformat_minor": 2
}
